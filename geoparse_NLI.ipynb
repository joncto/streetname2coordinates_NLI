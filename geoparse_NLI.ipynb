{
 "cells": [
  {
   "cell_type": "markdown",
   "id": "0bd6f170-abc9-4e8c-a749-c3f7ca754182",
   "metadata": {},
   "source": [
    "# Importere pakker"
   ]
  },
  {
   "cell_type": "code",
   "execution_count": 1,
   "id": "bf911259-6297-4ffe-943d-bea3f0f2069e",
   "metadata": {},
   "outputs": [],
   "source": [
    "import requests\n",
    "import pandas as pd"
   ]
  },
  {
   "cell_type": "markdown",
   "id": "a07bdc6e",
   "metadata": {},
   "source": [
    "## Laste inn data"
   ]
  },
  {
   "cell_type": "code",
   "execution_count": 7,
   "id": "55fe5901",
   "metadata": {},
   "outputs": [],
   "source": [
    "# Definere datakilde og laste inn data fra Excel\n",
    "file_path = './gateadresser.xlsx' # Endre filnavn så det stemmer med Excel-fila du ønsker å bruke som input\n",
    "df = pd.read_excel(file_path, header=None, names=['gateadresse'])"
   ]
  },
  {
   "cell_type": "code",
   "execution_count": 8,
   "id": "07f167bd",
   "metadata": {},
   "outputs": [],
   "source": [
    "def get_geocoordinates(adresse):\n",
    "    base_url = \"https://ws.geonorge.no/adresser/v1/sok\"  # URL for Geonorges API\n",
    "    params = {\n",
    "        'sok': adresse,  # Bruk 'adresse' parameter her\n",
    "        'treffPerSide': 1,  # Antall treff per side (antar vi bare ønsker toppresultatet)\n",
    "        'asciiKompatibel': 'true' # Garanterer at dataene som returneres er ascii-kompatible\n",
    "    }\n",
    "    response = requests.get(base_url, params=params)\n",
    "    data = response.json()\n",
    "    \n",
    "    # Henter ut breddegrad (lat) and lengdegrad (lon) \n",
    "    try:\n",
    "        lat = data['adresser'][0]['representasjonspunkt']['lat']\n",
    "        lon = data['adresser'][0]['representasjonspunkt']['lon']\n",
    "        return lat, lon\n",
    "    except (IndexError, KeyError):\n",
    "        return None, None  # I tilfeller der adressen ikke blir funnet eller responsen ikke er som forventet"
   ]
  },
  {
   "cell_type": "code",
   "execution_count": 9,
   "id": "85c0d441",
   "metadata": {},
   "outputs": [
    {
     "name": "stdout",
     "output_type": "stream",
     "text": [
      "Index(['gateadresse'], dtype='object')\n"
     ]
    }
   ],
   "source": [
    "print(df.columns)"
   ]
  },
  {
   "cell_type": "code",
   "execution_count": 10,
   "id": "fcfc71a4",
   "metadata": {},
   "outputs": [],
   "source": [
    "df[['latitude', 'longitude']] = df.apply(lambda row: pd.Series(get_geocoordinates(row['gateadresse'])), axis=1)"
   ]
  },
  {
   "cell_type": "code",
   "execution_count": 11,
   "id": "971ad4a0",
   "metadata": {},
   "outputs": [
    {
     "name": "stdout",
     "output_type": "stream",
     "text": [
      "                      gateadresse   latitude  longitude\n",
      "0     Berberisveien 1 (Stavanger)  58.964193   5.691826\n",
      "1     Berberisveien 2 (Stavanger)  58.964474   5.691921\n",
      "2     Berberisveien 3 (Stavanger)  58.964181   5.692071\n",
      "3     Berberisveien 4 (Stavanger)  58.964590   5.691910\n",
      "4     Berberisveien 5 (Stavanger)  58.963991   5.692020\n",
      "5     Berberisveien 7 (Stavanger)  58.963884   5.692047\n",
      "6     Berberisveien 8 (Stavanger)  58.964777   5.692376\n",
      "7     Berberisveien 9 (Stavanger)  58.963757   5.692025\n",
      "8    Berberisveien 10 (Stavanger)  58.964602   5.692483\n",
      "9   Berberisveien 11A (Stavanger)  58.963974   5.692422\n",
      "10  Berberisveien 11B (Stavanger)  58.963971   5.692631\n",
      "11   Berberisveien 13 (Stavanger)  58.964190   5.692418\n",
      "12   Berberisveien 15 (Stavanger)  58.964159   5.692630\n"
     ]
    }
   ],
   "source": [
    "print(df)"
   ]
  },
  {
   "cell_type": "code",
   "execution_count": 12,
   "id": "95c58dc5",
   "metadata": {},
   "outputs": [],
   "source": [
    "# Save the updated DataFrame to a new Excel file\n",
    "output_file_path = './output.xlsx'  # Update this to your desired output file path\n",
    "df.to_excel(output_file_path, index=False)"
   ]
  },
  {
   "cell_type": "code",
   "execution_count": 13,
   "id": "3d294224",
   "metadata": {},
   "outputs": [],
   "source": [
    "# Save the DataFrame to a CSV file\n",
    "csv_output_file_path = './output.csv'  # Update this to your desired CSV output file path\n",
    "df.to_csv(csv_output_file_path, index=False)"
   ]
  },
  {
   "cell_type": "code",
   "execution_count": null,
   "id": "796da148",
   "metadata": {},
   "outputs": [],
   "source": []
  }
 ],
 "metadata": {
  "kernelspec": {
   "display_name": "Python 3 (ipykernel)",
   "language": "python",
   "name": "python3"
  },
  "language_info": {
   "codemirror_mode": {
    "name": "ipython",
    "version": 3
   },
   "file_extension": ".py",
   "mimetype": "text/x-python",
   "name": "python",
   "nbconvert_exporter": "python",
   "pygments_lexer": "ipython3",
   "version": "3.11.8"
  }
 },
 "nbformat": 4,
 "nbformat_minor": 5
}
